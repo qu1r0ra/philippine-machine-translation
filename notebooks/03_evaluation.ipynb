{
 "cells": [
  {
   "cell_type": "markdown",
   "id": "984eff8d",
   "metadata": {},
   "source": [
    "## Evaluation"
   ]
  },
  {
   "cell_type": "markdown",
   "id": "81480043",
   "metadata": {},
   "source": []
  }
 ],
 "metadata": {
  "language_info": {
   "name": "python"
  }
 },
 "nbformat": 4,
 "nbformat_minor": 5
}
