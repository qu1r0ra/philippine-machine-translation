{
 "cells": [
  {
   "cell_type": "markdown",
   "id": "7f92b5b2",
   "metadata": {},
   "source": [
    "## Preprocessing"
   ]
  },
  {
   "cell_type": "markdown",
   "id": "03decf9d",
   "metadata": {},
   "source": [
    "### Setup"
   ]
  },
  {
   "cell_type": "code",
   "execution_count": 1,
   "id": "0e7b598b",
   "metadata": {},
   "outputs": [],
   "source": [
    "%load_ext autoreload\n",
    "%autoreload 2\n",
    "%matplotlib inline\n",
    "%matplotlib notebook"
   ]
  },
  {
   "cell_type": "code",
   "execution_count": 2,
   "id": "0d8ffb32",
   "metadata": {},
   "outputs": [
    {
     "name": "stdout",
     "output_type": "stream",
     "text": [
      "[CONFIG] Directories ensured and random seed set.\n"
     ]
    }
   ],
   "source": [
    "import os\n",
    "from pathlib import Path\n",
    "\n",
    "import pandas as pd\n",
    "\n",
    "from src.augmentation import augment_dataset\n",
    "from src.config import RAW_DIR\n",
    "from src.preprocessing_nmt import preprocess_corpus, split_and_export"
   ]
  },
  {
   "cell_type": "code",
   "execution_count": 3,
   "id": "f3352456",
   "metadata": {},
   "outputs": [
    {
     "data": {
      "text/plain": [
       "'c:\\\\Users\\\\qu1r0ra\\\\Documents\\\\GitHub\\\\philippine-machine-translation'"
      ]
     },
     "execution_count": 3,
     "metadata": {},
     "output_type": "execute_result"
    }
   ],
   "source": [
    "if Path.cwd().name == \"notebooks\":\n",
    "    os.chdir(\"..\")\n",
    "\n",
    "%pwd"
   ]
  },
  {
   "cell_type": "code",
   "execution_count": 4,
   "id": "3d21543c",
   "metadata": {},
   "outputs": [
    {
     "name": "stdout",
     "output_type": "stream",
     "text": [
      "Found 7 CSV file(s).\n",
      "[INFO] Loaded: cebuano_spanish.csv (31,105 rows)\n"
     ]
    },
    {
     "data": {
      "application/vnd.microsoft.datawrangler.viewer.v0+json": {
       "columns": [
        {
         "name": "index",
         "rawType": "int64",
         "type": "integer"
        },
        {
         "name": "usfm",
         "rawType": "object",
         "type": "string"
        },
        {
         "name": "book",
         "rawType": "object",
         "type": "string"
        },
        {
         "name": "verse",
         "rawType": "int64",
         "type": "integer"
        },
        {
         "name": "chapter",
         "rawType": "int64",
         "type": "integer"
        },
        {
         "name": "language1",
         "rawType": "object",
         "type": "string"
        },
        {
         "name": "language2",
         "rawType": "object",
         "type": "string"
        }
       ],
       "ref": "4b14ae76-78c1-42c8-a043-506d15efbfe2",
       "rows": [
        [
         "0",
         "1CH.1.1",
         "1CH",
         "1",
         "1",
         "Si Adan, si Set, si Enos,",
         "Adán, Set, Enós,"
        ],
        [
         "1",
         "1CH.1.2",
         "1CH",
         "2",
         "1",
         "si Kenan, si Mahalalel, si Jared,",
         "Cainán, Mahalaleel, Jared,"
        ],
        [
         "2",
         "1CH.1.3",
         "1CH",
         "3",
         "1",
         "si Enoc, si Metusela, si Lamec,",
         "Enoc, Matusalén, Lamec,"
        ],
        [
         "3",
         "1CH.1.4",
         "1CH",
         "4",
         "1",
         "si Noe, si Sem, si Ham ug si Jafet.",
         "Noé, Sem, Cam y Jafet."
        ],
        [
         "4",
         "1CH.1.5",
         "1CH",
         "5",
         "1",
         "Ang mga anak nga lalaki ni Jafet: si Gomer, si Magog, si Madai, si Javan, si Tubal, si Mesec ug si Tiras.",
         "Los hijos de Jafet: Gomer, Magog, Madai, Javán, Tubal, Mesec y Tiras."
        ]
       ],
       "shape": {
        "columns": 6,
        "rows": 5
       }
      },
      "text/html": [
       "<div>\n",
       "<style scoped>\n",
       "    .dataframe tbody tr th:only-of-type {\n",
       "        vertical-align: middle;\n",
       "    }\n",
       "\n",
       "    .dataframe tbody tr th {\n",
       "        vertical-align: top;\n",
       "    }\n",
       "\n",
       "    .dataframe thead th {\n",
       "        text-align: right;\n",
       "    }\n",
       "</style>\n",
       "<table border=\"1\" class=\"dataframe\">\n",
       "  <thead>\n",
       "    <tr style=\"text-align: right;\">\n",
       "      <th></th>\n",
       "      <th>usfm</th>\n",
       "      <th>book</th>\n",
       "      <th>verse</th>\n",
       "      <th>chapter</th>\n",
       "      <th>language1</th>\n",
       "      <th>language2</th>\n",
       "    </tr>\n",
       "  </thead>\n",
       "  <tbody>\n",
       "    <tr>\n",
       "      <th>0</th>\n",
       "      <td>1CH.1.1</td>\n",
       "      <td>1CH</td>\n",
       "      <td>1</td>\n",
       "      <td>1</td>\n",
       "      <td>Si Adan, si Set, si Enos,</td>\n",
       "      <td>Adán, Set, Enós,</td>\n",
       "    </tr>\n",
       "    <tr>\n",
       "      <th>1</th>\n",
       "      <td>1CH.1.2</td>\n",
       "      <td>1CH</td>\n",
       "      <td>2</td>\n",
       "      <td>1</td>\n",
       "      <td>si Kenan, si Mahalalel, si Jared,</td>\n",
       "      <td>Cainán, Mahalaleel, Jared,</td>\n",
       "    </tr>\n",
       "    <tr>\n",
       "      <th>2</th>\n",
       "      <td>1CH.1.3</td>\n",
       "      <td>1CH</td>\n",
       "      <td>3</td>\n",
       "      <td>1</td>\n",
       "      <td>si Enoc, si Metusela, si Lamec,</td>\n",
       "      <td>Enoc, Matusalén, Lamec,</td>\n",
       "    </tr>\n",
       "    <tr>\n",
       "      <th>3</th>\n",
       "      <td>1CH.1.4</td>\n",
       "      <td>1CH</td>\n",
       "      <td>4</td>\n",
       "      <td>1</td>\n",
       "      <td>si Noe, si Sem, si Ham ug si Jafet.</td>\n",
       "      <td>Noé, Sem, Cam y Jafet.</td>\n",
       "    </tr>\n",
       "    <tr>\n",
       "      <th>4</th>\n",
       "      <td>1CH.1.5</td>\n",
       "      <td>1CH</td>\n",
       "      <td>5</td>\n",
       "      <td>1</td>\n",
       "      <td>Ang mga anak nga lalaki ni Jafet: si Gomer, si...</td>\n",
       "      <td>Los hijos de Jafet: Gomer, Magog, Madai, Javán...</td>\n",
       "    </tr>\n",
       "  </tbody>\n",
       "</table>\n",
       "</div>"
      ],
      "text/plain": [
       "      usfm book  verse  chapter  \\\n",
       "0  1CH.1.1  1CH      1        1   \n",
       "1  1CH.1.2  1CH      2        1   \n",
       "2  1CH.1.3  1CH      3        1   \n",
       "3  1CH.1.4  1CH      4        1   \n",
       "4  1CH.1.5  1CH      5        1   \n",
       "\n",
       "                                           language1  \\\n",
       "0                          Si Adan, si Set, si Enos,   \n",
       "1                  si Kenan, si Mahalalel, si Jared,   \n",
       "2                    si Enoc, si Metusela, si Lamec,   \n",
       "3                si Noe, si Sem, si Ham ug si Jafet.   \n",
       "4  Ang mga anak nga lalaki ni Jafet: si Gomer, si...   \n",
       "\n",
       "                                           language2  \n",
       "0                                   Adán, Set, Enós,  \n",
       "1                         Cainán, Mahalaleel, Jared,  \n",
       "2                            Enoc, Matusalén, Lamec,  \n",
       "3                             Noé, Sem, Cam y Jafet.  \n",
       "4  Los hijos de Jafet: Gomer, Magog, Madai, Javán...  "
      ]
     },
     "execution_count": 4,
     "metadata": {},
     "output_type": "execute_result"
    }
   ],
   "source": [
    "csv_files = list(RAW_DIR.glob(\"**/*.csv\"))\n",
    "if not csv_files:\n",
    "    raise FileNotFoundError(\"No CSV files found in RAW_DIR.\")\n",
    "\n",
    "print(f\"Found {len(csv_files)} CSV file(s).\")\n",
    "\n",
    "df = pd.read_csv(csv_files[0])\n",
    "print(f\"[INFO] Loaded: {csv_files[0].name} ({len(df):,} rows)\")\n",
    "df.head()"
   ]
  },
  {
   "cell_type": "code",
   "execution_count": 5,
   "id": "60dcd92d",
   "metadata": {},
   "outputs": [
    {
     "name": "stdout",
     "output_type": "stream",
     "text": [
      "\n",
      "[Preprocessing] Cleaning and filtering 31,105 sentence pairs...\n",
      "[Preprocessing] 30,904 valid sentence pairs remain after cleaning.\n"
     ]
    },
    {
     "data": {
      "application/vnd.microsoft.datawrangler.viewer.v0+json": {
       "columns": [
        {
         "name": "index",
         "rawType": "int64",
         "type": "integer"
        },
        {
         "name": "language1",
         "rawType": "object",
         "type": "string"
        },
        {
         "name": "language2",
         "rawType": "object",
         "type": "string"
        },
        {
         "name": "src_tokens",
         "rawType": "object",
         "type": "string"
        },
        {
         "name": "tgt_tokens",
         "rawType": "object",
         "type": "string"
        }
       ],
       "ref": "9bafb667-d8ac-4858-be52-e2848aa34eac",
       "rows": [
        [
         "0",
         "Si Adan, si Set, si Enos,",
         "Adán, Set, Enós,",
         "si adan si set si enos",
         "adán set enós"
        ],
        [
         "1",
         "si Kenan, si Mahalalel, si Jared,",
         "Cainán, Mahalaleel, Jared,",
         "si kenan si mahalalel si jared",
         "cainán mahalaleel jared"
        ],
        [
         "2",
         "si Enoc, si Metusela, si Lamec,",
         "Enoc, Matusalén, Lamec,",
         "si enoc si metusela si lamec",
         "enoc matusalén lamec"
        ],
        [
         "3",
         "si Noe, si Sem, si Ham ug si Jafet.",
         "Noé, Sem, Cam y Jafet.",
         "si noe si sem si ham ug si jafet",
         "noé sem cam y jafet"
        ],
        [
         "4",
         "Ang mga anak nga lalaki ni Jafet: si Gomer, si Magog, si Madai, si Javan, si Tubal, si Mesec ug si Tiras.",
         "Los hijos de Jafet: Gomer, Magog, Madai, Javán, Tubal, Mesec y Tiras.",
         "ang mga anak nga lalaki ni jafet si gomer si magog si madai si javan si tubal si mesec ug si tiras",
         "los hijos de jafet gomer magog madai javán tubal mesec y tiras"
        ]
       ],
       "shape": {
        "columns": 4,
        "rows": 5
       }
      },
      "text/html": [
       "<div>\n",
       "<style scoped>\n",
       "    .dataframe tbody tr th:only-of-type {\n",
       "        vertical-align: middle;\n",
       "    }\n",
       "\n",
       "    .dataframe tbody tr th {\n",
       "        vertical-align: top;\n",
       "    }\n",
       "\n",
       "    .dataframe thead th {\n",
       "        text-align: right;\n",
       "    }\n",
       "</style>\n",
       "<table border=\"1\" class=\"dataframe\">\n",
       "  <thead>\n",
       "    <tr style=\"text-align: right;\">\n",
       "      <th></th>\n",
       "      <th>language1</th>\n",
       "      <th>language2</th>\n",
       "      <th>src_tokens</th>\n",
       "      <th>tgt_tokens</th>\n",
       "    </tr>\n",
       "  </thead>\n",
       "  <tbody>\n",
       "    <tr>\n",
       "      <th>0</th>\n",
       "      <td>Si Adan, si Set, si Enos,</td>\n",
       "      <td>Adán, Set, Enós,</td>\n",
       "      <td>si adan si set si enos</td>\n",
       "      <td>adán set enós</td>\n",
       "    </tr>\n",
       "    <tr>\n",
       "      <th>1</th>\n",
       "      <td>si Kenan, si Mahalalel, si Jared,</td>\n",
       "      <td>Cainán, Mahalaleel, Jared,</td>\n",
       "      <td>si kenan si mahalalel si jared</td>\n",
       "      <td>cainán mahalaleel jared</td>\n",
       "    </tr>\n",
       "    <tr>\n",
       "      <th>2</th>\n",
       "      <td>si Enoc, si Metusela, si Lamec,</td>\n",
       "      <td>Enoc, Matusalén, Lamec,</td>\n",
       "      <td>si enoc si metusela si lamec</td>\n",
       "      <td>enoc matusalén lamec</td>\n",
       "    </tr>\n",
       "    <tr>\n",
       "      <th>3</th>\n",
       "      <td>si Noe, si Sem, si Ham ug si Jafet.</td>\n",
       "      <td>Noé, Sem, Cam y Jafet.</td>\n",
       "      <td>si noe si sem si ham ug si jafet</td>\n",
       "      <td>noé sem cam y jafet</td>\n",
       "    </tr>\n",
       "    <tr>\n",
       "      <th>4</th>\n",
       "      <td>Ang mga anak nga lalaki ni Jafet: si Gomer, si...</td>\n",
       "      <td>Los hijos de Jafet: Gomer, Magog, Madai, Javán...</td>\n",
       "      <td>ang mga anak nga lalaki ni jafet si gomer si m...</td>\n",
       "      <td>los hijos de jafet gomer magog madai javán tub...</td>\n",
       "    </tr>\n",
       "  </tbody>\n",
       "</table>\n",
       "</div>"
      ],
      "text/plain": [
       "                                           language1  \\\n",
       "0                          Si Adan, si Set, si Enos,   \n",
       "1                  si Kenan, si Mahalalel, si Jared,   \n",
       "2                    si Enoc, si Metusela, si Lamec,   \n",
       "3                si Noe, si Sem, si Ham ug si Jafet.   \n",
       "4  Ang mga anak nga lalaki ni Jafet: si Gomer, si...   \n",
       "\n",
       "                                           language2  \\\n",
       "0                                   Adán, Set, Enós,   \n",
       "1                         Cainán, Mahalaleel, Jared,   \n",
       "2                            Enoc, Matusalén, Lamec,   \n",
       "3                             Noé, Sem, Cam y Jafet.   \n",
       "4  Los hijos de Jafet: Gomer, Magog, Madai, Javán...   \n",
       "\n",
       "                                          src_tokens  \\\n",
       "0                             si adan si set si enos   \n",
       "1                     si kenan si mahalalel si jared   \n",
       "2                       si enoc si metusela si lamec   \n",
       "3                   si noe si sem si ham ug si jafet   \n",
       "4  ang mga anak nga lalaki ni jafet si gomer si m...   \n",
       "\n",
       "                                          tgt_tokens  \n",
       "0                                      adán set enós  \n",
       "1                            cainán mahalaleel jared  \n",
       "2                               enoc matusalén lamec  \n",
       "3                                noé sem cam y jafet  \n",
       "4  los hijos de jafet gomer magog madai javán tub...  "
      ]
     },
     "execution_count": 5,
     "metadata": {},
     "output_type": "execute_result"
    }
   ],
   "source": [
    "clean_df = preprocess_corpus(df)\n",
    "clean_df.head()"
   ]
  },
  {
   "cell_type": "code",
   "execution_count": 6,
   "id": "1944b76f",
   "metadata": {},
   "outputs": [
    {
     "name": "stdout",
     "output_type": "stream",
     "text": [
      "[INFO] Augmenting dataset: 30,904 rows with 1 copies each...\n",
      "[INFO] Augmentation complete — total rows: 61,808 (2.0x increase)\n"
     ]
    },
    {
     "data": {
      "application/vnd.microsoft.datawrangler.viewer.v0+json": {
       "columns": [
        {
         "name": "index",
         "rawType": "int64",
         "type": "integer"
        },
        {
         "name": "src_tokens",
         "rawType": "object",
         "type": "string"
        },
        {
         "name": "tgt_tokens",
         "rawType": "object",
         "type": "string"
        }
       ],
       "ref": "8f0de91c-2cbc-4dc7-afd8-928f308759e0",
       "rows": [
        [
         "0",
         "si adan si set si enos",
         "adán set enós"
        ],
        [
         "1",
         "si adan si set si enos",
         "adán set enós"
        ],
        [
         "2",
         "si kenan si mahalalel si jared",
         "cainán mahalaleel jared"
        ],
        [
         "3",
         "kenan si si mahalalel si si jared",
         "cainán mahalaleel jared"
        ],
        [
         "4",
         "si enoc si metusela si lamec",
         "enoc matusalén lamec"
        ]
       ],
       "shape": {
        "columns": 2,
        "rows": 5
       }
      },
      "text/html": [
       "<div>\n",
       "<style scoped>\n",
       "    .dataframe tbody tr th:only-of-type {\n",
       "        vertical-align: middle;\n",
       "    }\n",
       "\n",
       "    .dataframe tbody tr th {\n",
       "        vertical-align: top;\n",
       "    }\n",
       "\n",
       "    .dataframe thead th {\n",
       "        text-align: right;\n",
       "    }\n",
       "</style>\n",
       "<table border=\"1\" class=\"dataframe\">\n",
       "  <thead>\n",
       "    <tr style=\"text-align: right;\">\n",
       "      <th></th>\n",
       "      <th>src_tokens</th>\n",
       "      <th>tgt_tokens</th>\n",
       "    </tr>\n",
       "  </thead>\n",
       "  <tbody>\n",
       "    <tr>\n",
       "      <th>0</th>\n",
       "      <td>si adan si set si enos</td>\n",
       "      <td>adán set enós</td>\n",
       "    </tr>\n",
       "    <tr>\n",
       "      <th>1</th>\n",
       "      <td>si adan si set si enos</td>\n",
       "      <td>adán set enós</td>\n",
       "    </tr>\n",
       "    <tr>\n",
       "      <th>2</th>\n",
       "      <td>si kenan si mahalalel si jared</td>\n",
       "      <td>cainán mahalaleel jared</td>\n",
       "    </tr>\n",
       "    <tr>\n",
       "      <th>3</th>\n",
       "      <td>kenan si si mahalalel si si jared</td>\n",
       "      <td>cainán mahalaleel jared</td>\n",
       "    </tr>\n",
       "    <tr>\n",
       "      <th>4</th>\n",
       "      <td>si enoc si metusela si lamec</td>\n",
       "      <td>enoc matusalén lamec</td>\n",
       "    </tr>\n",
       "  </tbody>\n",
       "</table>\n",
       "</div>"
      ],
      "text/plain": [
       "                          src_tokens               tgt_tokens\n",
       "0             si adan si set si enos            adán set enós\n",
       "1             si adan si set si enos            adán set enós\n",
       "2     si kenan si mahalalel si jared  cainán mahalaleel jared\n",
       "3  kenan si si mahalalel si si jared  cainán mahalaleel jared\n",
       "4       si enoc si metusela si lamec     enoc matusalén lamec"
      ]
     },
     "execution_count": 6,
     "metadata": {},
     "output_type": "execute_result"
    }
   ],
   "source": [
    "aug_df = augment_dataset(clean_df)\n",
    "aug_df.head()"
   ]
  },
  {
   "cell_type": "code",
   "execution_count": 7,
   "id": "e7ae9d84",
   "metadata": {},
   "outputs": [
    {
     "name": "stdout",
     "output_type": "stream",
     "text": [
      "[Splitting] Train ratio = 0.9\n",
      "[Exporting] Writing train split to C:\\Users\\qu1r0ra\\Documents\\GitHub\\philippine-machine-translation\\data\\processed\n",
      "[Export] train.src and train.tgt written.\n",
      "[Exporting] Writing valid split to C:\\Users\\qu1r0ra\\Documents\\GitHub\\philippine-machine-translation\\data\\processed\n",
      "[Export] valid.src and valid.tgt written.\n",
      "[Done] Train/valid splits exported successfully.\n"
     ]
    }
   ],
   "source": [
    "split_and_export(aug_df)"
   ]
  }
 ],
 "metadata": {
  "kernelspec": {
   "display_name": "philippine-machine-translation",
   "language": "python",
   "name": "python3"
  },
  "language_info": {
   "codemirror_mode": {
    "name": "ipython",
    "version": 3
   },
   "file_extension": ".py",
   "mimetype": "text/x-python",
   "name": "python",
   "nbconvert_exporter": "python",
   "pygments_lexer": "ipython3",
   "version": "3.13.5"
  }
 },
 "nbformat": 4,
 "nbformat_minor": 5
}
