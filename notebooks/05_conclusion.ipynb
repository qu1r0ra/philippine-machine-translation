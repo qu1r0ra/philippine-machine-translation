{
 "cells": [
  {
   "cell_type": "markdown",
   "id": "9f0d9554",
   "metadata": {},
   "source": [
    "## Conclusion"
   ]
  },
  {
   "cell_type": "markdown",
   "id": "d13cda9c",
   "metadata": {},
   "source": []
  }
 ],
 "metadata": {
  "language_info": {
   "name": "python"
  }
 },
 "nbformat": 4,
 "nbformat_minor": 5
}
