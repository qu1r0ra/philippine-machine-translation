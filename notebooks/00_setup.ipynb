{
 "cells": [
  {
   "cell_type": "markdown",
   "id": "fd0ed826-5387-4413-aabd-cc7e3acc21e7",
   "metadata": {},
   "source": [
    "# philippine-machine-translation"
   ]
  },
  {
   "cell_type": "markdown",
   "id": "eb2ed62d-e4ec-4900-9ace-b4c7f26af98b",
   "metadata": {},
   "source": [
    "An exploration of machine translation for a subset of (mostly) Philippine languages. Created for NLP1000 (Introduction to Natural Language Processing)."
   ]
  },
  {
   "cell_type": "markdown",
   "id": "7182ad50-a975-4181-a733-fa8e5a570d1c",
   "metadata": {},
   "source": [
    "## Environment Setup"
   ]
  },
  {
   "cell_type": "code",
   "execution_count": 1,
   "id": "e29b73b2-a056-4b8d-8538-532da2649d90",
   "metadata": {},
   "outputs": [],
   "source": [
    "%load_ext autoreload\n",
    "%autoreload 2\n",
    "%matplotlib inline\n",
    "%matplotlib notebook"
   ]
  },
  {
   "cell_type": "code",
   "execution_count": 2,
   "id": "4aaea28f-1ac5-4532-b142-5b81c4f4e6fd",
   "metadata": {},
   "outputs": [
    {
     "name": "stdout",
     "output_type": "stream",
     "text": [
      "[CONFIG] Directories ensured and random seed set.\n"
     ]
    }
   ],
   "source": [
    "import pandas as pd\n",
    "\n",
    "from src.config import RAW_DIR\n",
    "from src.utils import extract_archives"
   ]
  },
  {
   "cell_type": "code",
   "execution_count": 3,
   "id": "c6260786-12d8-4cd0-b0b3-6f7985f38edd",
   "metadata": {},
   "outputs": [
    {
     "name": "stdout",
     "output_type": "stream",
     "text": [
      "Found 1 archive(s) in 'C:\\Users\\qu1r0ra\\Documents\\GitHub\\philippine-machine-translation\\data\\raw':\n",
      "Overwriting existing folder 'parallel_corpora_by_verse' ...\n",
      "Extracting 'parallel_corpora_by_verse.zip' → 'C:\\Users\\qu1r0ra\\Documents\\GitHub\\philippine-machine-translation\\data\\raw\\parallel_corpora_by_verse/' ...\n",
      "Done extracting 'parallel_corpora_by_verse.zip'\n",
      "All archives processed.\n"
     ]
    }
   ],
   "source": [
    "extract_archives(RAW_DIR, overwrite=True)"
   ]
  },
  {
   "cell_type": "code",
   "execution_count": 4,
   "id": "cec50a40-a1a4-4fa5-8756-7e9e320ec488",
   "metadata": {},
   "outputs": [
    {
     "name": "stdout",
     "output_type": "stream",
     "text": [
      "Found 7 CSV files. \n",
      "Showing first few lines of 'cebuano_spanish.csv':\n"
     ]
    },
    {
     "data": {
      "text/html": [
       "<div>\n",
       "<style scoped>\n",
       "    .dataframe tbody tr th:only-of-type {\n",
       "        vertical-align: middle;\n",
       "    }\n",
       "\n",
       "    .dataframe tbody tr th {\n",
       "        vertical-align: top;\n",
       "    }\n",
       "\n",
       "    .dataframe thead th {\n",
       "        text-align: right;\n",
       "    }\n",
       "</style>\n",
       "<table border=\"1\" class=\"dataframe\">\n",
       "  <thead>\n",
       "    <tr style=\"text-align: right;\">\n",
       "      <th></th>\n",
       "      <th>usfm</th>\n",
       "      <th>book</th>\n",
       "      <th>verse</th>\n",
       "      <th>chapter</th>\n",
       "      <th>language 1</th>\n",
       "      <th>language2</th>\n",
       "    </tr>\n",
       "  </thead>\n",
       "  <tbody>\n",
       "    <tr>\n",
       "      <th>0</th>\n",
       "      <td>1CH.1.1</td>\n",
       "      <td>1CH</td>\n",
       "      <td>1</td>\n",
       "      <td>1</td>\n",
       "      <td>Si Adan, si Set, si Enos,</td>\n",
       "      <td>Adán, Set, Enós,</td>\n",
       "    </tr>\n",
       "    <tr>\n",
       "      <th>1</th>\n",
       "      <td>1CH.1.2</td>\n",
       "      <td>1CH</td>\n",
       "      <td>2</td>\n",
       "      <td>1</td>\n",
       "      <td>si Kenan, si Mahalalel, si Jared,</td>\n",
       "      <td>Cainán, Mahalaleel, Jared,</td>\n",
       "    </tr>\n",
       "    <tr>\n",
       "      <th>2</th>\n",
       "      <td>1CH.1.3</td>\n",
       "      <td>1CH</td>\n",
       "      <td>3</td>\n",
       "      <td>1</td>\n",
       "      <td>si Enoc, si Metusela, si Lamec,</td>\n",
       "      <td>Enoc, Matusalén, Lamec,</td>\n",
       "    </tr>\n",
       "    <tr>\n",
       "      <th>3</th>\n",
       "      <td>1CH.1.4</td>\n",
       "      <td>1CH</td>\n",
       "      <td>4</td>\n",
       "      <td>1</td>\n",
       "      <td>si Noe, si Sem, si Ham ug si Jafet.</td>\n",
       "      <td>Noé, Sem, Cam y Jafet.</td>\n",
       "    </tr>\n",
       "    <tr>\n",
       "      <th>4</th>\n",
       "      <td>1CH.1.5</td>\n",
       "      <td>1CH</td>\n",
       "      <td>5</td>\n",
       "      <td>1</td>\n",
       "      <td>Ang mga anak nga lalaki ni Jafet: si Gomer, si...</td>\n",
       "      <td>Los hijos de Jafet: Gomer, Magog, Madai, Javán...</td>\n",
       "    </tr>\n",
       "  </tbody>\n",
       "</table>\n",
       "</div>"
      ],
      "text/plain": [
       "      usfm book  verse  chapter  \\\n",
       "0  1CH.1.1  1CH      1        1   \n",
       "1  1CH.1.2  1CH      2        1   \n",
       "2  1CH.1.3  1CH      3        1   \n",
       "3  1CH.1.4  1CH      4        1   \n",
       "4  1CH.1.5  1CH      5        1   \n",
       "\n",
       "                                          language 1  \\\n",
       "0                          Si Adan, si Set, si Enos,   \n",
       "1                  si Kenan, si Mahalalel, si Jared,   \n",
       "2                    si Enoc, si Metusela, si Lamec,   \n",
       "3                si Noe, si Sem, si Ham ug si Jafet.   \n",
       "4  Ang mga anak nga lalaki ni Jafet: si Gomer, si...   \n",
       "\n",
       "                                           language2  \n",
       "0                                   Adán, Set, Enós,  \n",
       "1                         Cainán, Mahalaleel, Jared,  \n",
       "2                            Enoc, Matusalén, Lamec,  \n",
       "3                             Noé, Sem, Cam y Jafet.  \n",
       "4  Los hijos de Jafet: Gomer, Magog, Madai, Javán...  "
      ]
     },
     "metadata": {},
     "output_type": "display_data"
    }
   ],
   "source": [
    "csv_files = list(RAW_DIR.glob(\"**/*.csv\"))\n",
    "\n",
    "if csv_files:\n",
    "    print(f\"Found {len(csv_files)} CSV files. \")\n",
    "    print(f\"Showing first few lines of '{csv_files[0].name}':\")\n",
    "    df = pd.read_csv(csv_files[0])\n",
    "    display(df.head())\n",
    "else:\n",
    "    print(\"No CSV files found in extracted data.\")"
   ]
  },
  {
   "cell_type": "markdown",
   "id": "c5a06c5f-5d79-466d-8520-6388b6f03983",
   "metadata": {},
   "source": [
    "At this point, we can confidently proceed with **preprocessing** knowing our data is properly structured."
   ]
  }
 ],
 "metadata": {
  "kernelspec": {
   "display_name": "Python 3 (ipykernel)",
   "language": "python",
   "name": "python3"
  },
  "language_info": {
   "codemirror_mode": {
    "name": "ipython",
    "version": 3
   },
   "file_extension": ".py",
   "mimetype": "text/x-python",
   "name": "python",
   "nbconvert_exporter": "python",
   "pygments_lexer": "ipython3",
   "version": "3.13.5"
  }
 },
 "nbformat": 4,
 "nbformat_minor": 5
}
