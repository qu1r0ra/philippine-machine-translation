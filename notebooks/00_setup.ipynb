{
 "cells": [
  {
   "cell_type": "markdown",
   "id": "fd0ed826-5387-4413-aabd-cc7e3acc21e7",
   "metadata": {},
   "source": [
    "# philippine-machine-translation"
   ]
  },
  {
   "cell_type": "markdown",
   "id": "eb2ed62d-e4ec-4900-9ace-b4c7f26af98b",
   "metadata": {},
   "source": [
    "An exploration of machine translation for a subset of (mostly) Philippine languages. Created for NLP1000 (Introduction to Natural Language Processing)."
   ]
  },
  {
   "cell_type": "markdown",
   "id": "7182ad50-a975-4181-a733-fa8e5a570d1c",
   "metadata": {},
   "source": [
    "## Environment Setup"
   ]
  },
  {
   "cell_type": "code",
   "execution_count": null,
   "id": "4aaea28f-1ac5-4532-b142-5b81c4f4e6fd",
   "metadata": {},
   "outputs": [],
   "source": [
    "import numpy as np\n",
    "import os\n",
    "import pandas as pd\n",
    "import sys\n",
    "\n",
    "from pathlib import Path"
   ]
  },
  {
   "cell_type": "code",
   "execution_count": 1,
   "id": "e29b73b2-a056-4b8d-8538-532da2649d90",
   "metadata": {},
   "outputs": [],
   "source": [
    "%load_ext autoreload\n",
    "%autoreload 2\n",
    "\n",
    "%matplotlib inline\n",
    "%matplotlib notebook"
   ]
  },
  {
   "cell_type": "code",
   "execution_count": null,
   "id": "5e04b450-7332-4cd4-9b14-e350fe604a97",
   "metadata": {},
   "outputs": [],
   "source": [
    "\n",
    "\n",
    "if Path.cwd().name == \"notebooks\":\n",
    "    os.chdir(\"..\")\n",
    "sys.path.append(\"src\")\n",
    "\n",
    "print(\"Working directory:\", os.getcwd())"
   ]
  }
 ],
 "metadata": {
  "kernelspec": {
   "display_name": "Python 3 (ipykernel)",
   "language": "python",
   "name": "python3"
  },
  "language_info": {
   "codemirror_mode": {
    "name": "ipython",
    "version": 3
   },
   "file_extension": ".py",
   "mimetype": "text/x-python",
   "name": "python",
   "nbconvert_exporter": "python",
   "pygments_lexer": "ipython3",
   "version": "3.13.5"
  }
 },
 "nbformat": 4,
 "nbformat_minor": 5
}
