{
 "cells": [
  {
   "cell_type": "markdown",
   "id": "00b3198e",
   "metadata": {},
   "source": [
    "Hello from philippine-machine-translation!"
   ]
  }
 ],
 "metadata": {
  "language_info": {
   "name": "python"
  }
 },
 "nbformat": 4,
 "nbformat_minor": 5
}
